{
 "cells": [
  {
   "cell_type": "code",
   "execution_count": 1,
   "id": "initial_id",
   "metadata": {
    "collapsed": true,
    "ExecuteTime": {
     "end_time": "2024-01-16T15:08:14.920126Z",
     "start_time": "2024-01-16T15:08:12.948684Z"
    }
   },
   "outputs": [],
   "source": [
    "\n",
    "import math\n",
    "\n",
    "import numpy\n",
    "import numpy as np\n",
    "import pandas as pd\n",
    "import seaborn as sb\n",
    "import networkx as nx\n",
    "import random\n",
    "from networkx import Graph\n",
    "from sklearn.metrics import mutual_info_score\n",
    "from joblib import Parallel, delayed\n",
    "import matplotlib.pyplot as plt\n",
    "from itertools import count\n",
    "from enum import Enum\n"
   ]
  },
  {
   "cell_type": "code",
   "execution_count": 25,
   "outputs": [
    {
     "name": "stdout",
     "output_type": "stream",
     "text": [
      "Threshold: 2.0\n"
     ]
    },
    {
     "data": {
      "text/plain": "<seaborn.axisgrid.FacetGrid at 0x13175c820>"
     },
     "execution_count": 25,
     "metadata": {},
     "output_type": "execute_result"
    },
    {
     "data": {
      "text/plain": "<Figure size 500x500 with 1 Axes>",
      "image/png": "[encoded data removed]"
     },
     "metadata": {},
     "output_type": "display_data"
    }
   ],
   "source": [
    "maxes = []\n",
    "rho = 1\n",
    "sens = 0.01\n",
    "DIMS = 200\n",
    "if 1/sens > DIMS**2:\n",
    "    print(f'Error in ${DIMS} dimensions')\n",
    "\n",
    "scale = (sens * np.sqrt(2*2*DIMS))/np.sqrt(rho)\n",
    "# Maximum of d**2 exponentials\n",
    "for i in range(300):\n",
    "    v = np.random.exponential(scale, size=DIMS**2)\n",
    "    maxes+=[max(v)]\n",
    "\n",
    "print(f'Threshold: {DIMS*sens}')\n",
    "sb.displot(data=maxes)\n"
   ],
   "metadata": {
    "collapsed": false,
    "ExecuteTime": {
     "end_time": "2024-01-16T15:21:33.649558Z",
     "start_time": "2024-01-16T15:21:33.079049Z"
    }
   },
   "id": "4d8f52d2f75ac063"
  }
 ],
 "metadata": {
  "kernelspec": {
   "display_name": "Python 3",
   "language": "python",
   "name": "python3"
  },
  "language_info": {
   "codemirror_mode": {
    "name": "ipython",
    "version": 2
   },
   "file_extension": ".py",
   "mimetype": "text/x-python",
   "name": "python",
   "nbconvert_exporter": "python",
   "pygments_lexer": "ipython2",
   "version": "2.7.6"
  }
 },
 "nbformat": 4,
 "nbformat_minor": 5
}
