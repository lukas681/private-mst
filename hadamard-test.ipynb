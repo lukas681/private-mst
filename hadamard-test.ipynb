{
 "cells": [
  {
   "cell_type": "markdown",
   "source": [
    "from scipy.linalg import hadamard"
   ],
   "metadata": {
    "collapsed": false
   }
  },
  {
   "cell_type": "code",
   "execution_count": 21,
   "outputs": [
    {
     "data": {
      "text/plain": "array([[1, 1],\n       [1, 1]])"
     },
     "execution_count": 21,
     "metadata": {},
     "output_type": "execute_result"
    }
   ],
   "source": [
    "from scipy.linalg import hadamard\n",
    "import numpy as np\n",
    "\n",
    "np.multiply(hadamard(2), np.transpose(hadamard(2)))\n",
    "\n",
    "## Should be identity matrix"
   ],
   "metadata": {
    "collapsed": false,
    "ExecuteTime": {
     "end_time": "2023-06-19T16:14:43.825143Z",
     "start_time": "2023-06-19T16:14:43.822252Z"
    }
   }
  },
  {
   "cell_type": "code",
   "execution_count": 16,
   "outputs": [
    {
     "data": {
      "text/plain": "array([[ 1,  3,  4,  5],\n       [ 1, -3,  4, -5],\n       [ 1,  3, -4, -5],\n       [ 1, -3, -4,  5]])"
     },
     "execution_count": 16,
     "metadata": {},
     "output_type": "execute_result"
    }
   ],
   "source": [
    "# Example for d = 3\n",
    "# Contains a histogram for\n",
    "# 00:1 01:3 10:4 11:5\n",
    "histogram = np.array([1,3,4,5])\n",
    "\n",
    "# new base\n",
    "np.multiply(histogram, hadamard(4))\n"
   ],
   "metadata": {
    "collapsed": false,
    "ExecuteTime": {
     "end_time": "2023-06-19T16:13:20.515895Z",
     "start_time": "2023-06-19T16:13:20.513997Z"
    }
   }
  }
 ],
 "metadata": {
  "kernelspec": {
   "display_name": "Python 3",
   "language": "python",
   "name": "python3"
  },
  "language_info": {
   "codemirror_mode": {
    "name": "ipython",
    "version": 2
   },
   "file_extension": ".py",
   "mimetype": "text/x-python",
   "name": "python",
   "nbconvert_exporter": "python",
   "pygments_lexer": "ipython2",
   "version": "2.7.6"
  }
 },
 "nbformat": 4,
 "nbformat_minor": 0
}
